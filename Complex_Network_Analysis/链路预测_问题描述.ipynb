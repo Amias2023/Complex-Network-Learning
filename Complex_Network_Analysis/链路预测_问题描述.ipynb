{
 "cells": [
  {
   "cell_type": "markdown",
   "metadata": {
    "toc": true
   },
   "source": [
    "<h1>Table of Contents<span class=\"tocSkip\"></span></h1>\n",
    "<div class=\"toc\"><ul class=\"toc-item\"></ul></div>"
   ]
  },
  {
   "cell_type": "markdown",
   "metadata": {},
   "source": [
    "针对任意的 无向网络 G(V,E), 给定任意一种链路预测的方法， 为每对没有连边的节点对赋予一个分数值， 这个分数值可以理解为两个节点连接概率的近似， 与连接概率正相关。"
   ]
  },
  {
   "cell_type": "markdown",
   "metadata": {},
   "source": [
    "---"
   ]
  },
  {
   "cell_type": "markdown",
   "metadata": {},
   "source": [
    "为了测试算法的正确性， 一般将已知的连边分割为两部分 ： 训练集$E_{T}$和测试集 $E_{P}$\n",
    "\n",
    "* $ E = E_{T} \\cup  E_{P}$\n",
    "\n",
    "* $ E_{T} \\cap  E_{P} = \\oslash  $\n",
    "\n",
    "----\n",
    "\n",
    "* U 为 N(N-1)/2 个节点对组成的所有连边的全集\n",
    "\n",
    "\n",
    "\n",
    "* 属于 U 但是不属于 E 的连边称为 **不存在的边**\n",
    "* 属于 U 但是不属于 $E_{T}$ 的边称为 **未知的边**"
   ]
  },
  {
   "cell_type": "markdown",
   "metadata": {},
   "source": [
    "-----"
   ]
  },
  {
   "cell_type": "markdown",
   "metadata": {
    "ExecuteTime": {
     "end_time": "2019-10-29T08:03:47.216742Z",
     "start_time": "2019-10-29T08:03:47.074238Z"
    }
   },
   "source": [
    "![](https://i.loli.net/2019/10/29/NPIpL8rcMUFR29y.png)"
   ]
  },
  {
   "cell_type": "markdown",
   "metadata": {},
   "source": [
    "如上图所示， 网络有 13个节点， 19条连边， 全集的连边为 78 \n",
    "\n",
    "* 图 b 中 4 条 虚线为选出的 4 条测试的连边， 其余 15 条实线连边作为训练集\n",
    "\n",
    "\n",
    "\n",
    "* 基于某种链路预测算法， 给 (78- 15 = 63) 条**未知边** 赋予相应的分数。\n",
    "\n",
    "\n",
    "\n",
    "* 分数值从小到大排列， 如果尽可能多的将测试边排在不存在边的前面， 表示算法预测的效果较好"
   ]
  },
  {
   "cell_type": "code",
   "execution_count": null,
   "metadata": {},
   "outputs": [],
   "source": []
  }
 ],
 "metadata": {
  "kernelspec": {
   "display_name": "Python 3",
   "language": "python",
   "name": "python3"
  },
  "language_info": {
   "codemirror_mode": {
    "name": "ipython",
    "version": 3
   },
   "file_extension": ".py",
   "mimetype": "text/x-python",
   "name": "python",
   "nbconvert_exporter": "python",
   "pygments_lexer": "ipython3",
   "version": "3.7.4"
  },
  "toc": {
   "base_numbering": 1,
   "nav_menu": {},
   "number_sections": true,
   "sideBar": true,
   "skip_h1_title": false,
   "title_cell": "Table of Contents",
   "title_sidebar": "Contents",
   "toc_cell": true,
   "toc_position": {},
   "toc_section_display": true,
   "toc_window_display": false
  },
  "varInspector": {
   "cols": {
    "lenName": 16,
    "lenType": 16,
    "lenVar": 40
   },
   "kernels_config": {
    "python": {
     "delete_cmd_postfix": "",
     "delete_cmd_prefix": "del ",
     "library": "var_list.py",
     "varRefreshCmd": "print(var_dic_list())"
    },
    "r": {
     "delete_cmd_postfix": ") ",
     "delete_cmd_prefix": "rm(",
     "library": "var_list.r",
     "varRefreshCmd": "cat(var_dic_list()) "
    }
   },
   "oldHeight": 122,
   "position": {
    "height": "40px",
    "left": "1170px",
    "right": "20px",
    "top": "120px",
    "width": "250px"
   },
   "types_to_exclude": [
    "module",
    "function",
    "builtin_function_or_method",
    "instance",
    "_Feature"
   ],
   "varInspector_section_display": "none",
   "window_display": true
  }
 },
 "nbformat": 4,
 "nbformat_minor": 2
}
