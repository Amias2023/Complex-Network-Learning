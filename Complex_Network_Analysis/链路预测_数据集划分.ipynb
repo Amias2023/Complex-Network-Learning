{
 "cells": [
  {
   "cell_type": "markdown",
   "metadata": {
    "toc": true
   },
   "source": [
    "<h1>Table of Contents<span class=\"tocSkip\"></span></h1>\n",
    "<div class=\"toc\"><ul class=\"toc-item\"><li><span><a href=\"#随机抽样\" data-toc-modified-id=\"随机抽样-1\"><span class=\"toc-item-num\">1&nbsp;&nbsp;</span>随机抽样</a></span><ul class=\"toc-item\"><li><span><a href=\"#代码\" data-toc-modified-id=\"代码-1.1\"><span class=\"toc-item-num\">1.1&nbsp;&nbsp;</span>代码</a></span></li><li><span><a href=\"#测试\" data-toc-modified-id=\"测试-1.2\"><span class=\"toc-item-num\">1.2&nbsp;&nbsp;</span>测试</a></span></li></ul></li><li><span><a href=\"#逐项遍历\" data-toc-modified-id=\"逐项遍历-2\"><span class=\"toc-item-num\">2&nbsp;&nbsp;</span>逐项遍历</a></span></li><li><span><a href=\"#K-fold-交叉检验\" data-toc-modified-id=\"K-fold-交叉检验-3\"><span class=\"toc-item-num\">3&nbsp;&nbsp;</span>K-fold 交叉检验</a></span></li><li><span><a href=\"#滚雪球抽样\" data-toc-modified-id=\"滚雪球抽样-4\"><span class=\"toc-item-num\">4&nbsp;&nbsp;</span>滚雪球抽样</a></span></li><li><span><a href=\"#熟识者抽样\" data-toc-modified-id=\"熟识者抽样-5\"><span class=\"toc-item-num\">5&nbsp;&nbsp;</span>熟识者抽样</a></span></li><li><span><a href=\"#随机游走采样\" data-toc-modified-id=\"随机游走采样-6\"><span class=\"toc-item-num\">6&nbsp;&nbsp;</span>随机游走采样</a></span></li><li><span><a href=\"#基于路径抽样\" data-toc-modified-id=\"基于路径抽样-7\"><span class=\"toc-item-num\">7&nbsp;&nbsp;</span>基于路径抽样</a></span></li></ul></div>"
   ]
  },
  {
   "cell_type": "markdown",
   "metadata": {},
   "source": [
    "* 为了测试算法的性能， 需要对数据集进行划分\n",
    "\n",
    "\n",
    "\n",
    "* 划分方法的不同，算法的表现也不同\n",
    "\n"
   ]
  },
  {
   "cell_type": "markdown",
   "metadata": {},
   "source": [
    "# 随机抽样\n",
    "\n",
    "*  最常用的方法\n",
    "\n",
    "* 含有 M 条边， 假设划分的比例为 p, M 条 已知边中随机选择 pM 条边构成测试集， 保证每条边被选进测试集的概率相同。\n",
    "\n",
    "* 有时会有一些限制条件： 抽样之后网络的连通性\n"
   ]
  },
  {
   "cell_type": "markdown",
   "metadata": {},
   "source": [
    "## 代码\n",
    "\n",
    "* 参照 《链路预测》 书完成\n",
    "\n",
    "* 原书有较为完整 Matlab 代码\n",
    "\n"
   ]
  },
  {
   "cell_type": "code",
   "execution_count": 23,
   "metadata": {
    "ExecuteTime": {
     "end_time": "2019-10-30T02:06:45.704502Z",
     "start_time": "2019-10-30T02:06:45.446015Z"
    }
   },
   "outputs": [],
   "source": [
    "from scipy import sparse\n",
    "import networkx as nx\n",
    "import numpy as np\n",
    "import matplotlib.pyplot as plt\n",
    "import pandas as pd"
   ]
  },
  {
   "cell_type": "code",
   "execution_count": 2,
   "metadata": {
    "ExecuteTime": {
     "end_time": "2019-10-30T01:48:10.597034Z",
     "start_time": "2019-10-30T01:48:10.579672Z"
    }
   },
   "outputs": [],
   "source": [
    "def spones(array):\n",
    "    \"\"\"\n",
    "    将矩阵中的非零元素全部替换为 1 \n",
    "    \"\"\"\n",
    "    sparse_array = sparse.csr_matrix(array)  # 转换为稀疏矩阵\n",
    "    sparse_array.data.fill(1)  # 稀疏矩阵全部替换为 1\n",
    "    array = sparse_array.toarray()  # 返回密集矩阵\n",
    "\n",
    "    return array\n",
    "\n",
    "\n",
    "def DivideNet(MatrixAdajacency, ratioTrain):\n",
    "    \"\"\"\n",
    "    划分训练集和测试集\n",
    "    \n",
    "    保证网络训练集连通\n",
    "    \"\"\"\n",
    "\n",
    "    # 测试集的连边数目\n",
    "    num_testlinks = int(\n",
    "        (1 - ratioTrain) * np.count_nonzero(MatrixAdajacency) / 2)\n",
    "    # 将邻接矩阵中所有的边找出来 存储到 linklist 中\n",
    "    linklist = [list(i) for i in np.argwhere(np.triu(MatrixAdajacency))]\n",
    "    # 为每条边都设置标志位 ， 判断是否能够删除\n",
    "    MatrixAdajacency_test = np.zeros(shape=(np.shape(MatrixAdajacency)[0],\n",
    "                                            np.shape(MatrixAdajacency)[1]))\n",
    "\n",
    "    while (np.count_nonzero(MatrixAdajacency_test) < num_testlinks):\n",
    "\n",
    "        ### 随机选择一条边\n",
    "        link_index = int(np.random.rand(1) * len(linklist))\n",
    "        uid1 = linklist[link_index][0]  # 边两端的节点 1\n",
    "        uid2 = linklist[link_index][1]\n",
    "\n",
    "        ### 判断所选边两端节点 uid1 和 uid2 是否可达， 若可达则放入测试集， 否则重新选边\n",
    "        # 将这条边从网络中挖去，\n",
    "        MatrixAdajacency[uid1, uid2] = 0\n",
    "        MatrixAdajacency[uid2, uid1] = 0\n",
    "\n",
    "        tempvector = MatrixAdajacency[uid1]  # 取出 uid1  一步可达的点 构成一维向量\n",
    "        sign = 0  # 标记此边是否可以被移除，  sign = 0 表示不可， sign = 1 表示可以\n",
    "        uid1TOuid2 = np.dot(tempvector,\n",
    "                            MatrixAdajacency) + tempvector  # 表示 uid1 2步内可达的点\n",
    "\n",
    "        if uid1TOuid2[0, uid2] > 0:\n",
    "            sign = 1  # 两步即可到达\n",
    "        else:\n",
    "\n",
    "            count = 1\n",
    "            while (len((spones(uid1TOuid2) - tempvector).nonzero()[0]) != 0):\n",
    "                # 直到可达的点到达稳定状态， 仍然不能到达 uid2， 此边就不能删除\n",
    "                tempvector = spones(uid1TOuid2)\n",
    "                uid1TOuid2 = np.dot(\n",
    "                    tempvector, MatrixAdajacency) + tempvector  # 表示 K 步 内可达的点\n",
    "                count += 1\n",
    "                if uid1TOuid2[0, uid2] > 0:\n",
    "                    sign = 1  # 某步内可以到达\n",
    "                    break\n",
    "\n",
    "                if count >= MatrixAdajacency.shape[0]:\n",
    "                    print(\"不可达\" + str([uid1, uid2]))\n",
    "                    sign = 0\n",
    "\n",
    "        ### 如果边可以删除， 将其放入测试集中， 并从 link 集中删除\n",
    "        if sign == 1:\n",
    "            linklist.pop(link_index)\n",
    "            MatrixAdajacency_test[uid1, uid2] = 1\n",
    "\n",
    "        ### 如果不可以删除， 恢复原始矩阵， 也从 link 集中删除\n",
    "        else:\n",
    "            linklist.pop(link_index)\n",
    "            MatrixAdajacency[uid1, uid2] = 1\n",
    "            MatrixAdajacency[uid2, uid1] = 1\n",
    "\n",
    "    MatrixAdajacency_Train = MatrixAdajacency\n",
    "    MatrixAdajacency_Test = MatrixAdajacency_test + MatrixAdajacency_test.T\n",
    "\n",
    "    print('    训练集计划边数：' +\n",
    "          str(np.count_nonzero(MatrixAdajacency) - num_testlinks))\n",
    "    print('    训练集实际边数：' + str(np.count_nonzero(MatrixAdajacency_Train)))\n",
    "    print('    测试集计划边数：' + str(num_testlinks))\n",
    "    print('    测试集实际边数：' + str(np.count_nonzero(MatrixAdajacency_Test)))\n",
    "\n",
    "    return MatrixAdajacency_Train, MatrixAdajacency_Test\n",
    "\n",
    "\n",
    "def check_symmetric(a, tol=1e-8):\n",
    "    \"\"\"\n",
    "    检查是否是 对称矩阵\n",
    "    \"\"\"\n",
    "    return np.allclose(a, a.T, atol=tol)"
   ]
  },
  {
   "cell_type": "markdown",
   "metadata": {},
   "source": [
    "-------\n",
    "\n",
    "##  测试\n"
   ]
  },
  {
   "cell_type": "code",
   "execution_count": 9,
   "metadata": {
    "ExecuteTime": {
     "end_time": "2019-10-30T01:50:33.094625Z",
     "start_time": "2019-10-30T01:50:32.946634Z"
    }
   },
   "outputs": [],
   "source": [
    "edge_lst = []\n",
    "with open(\"lit-bm-13.txt\",\"r\") as file_txt: # 蛋白质相互作用数据集\n",
    "    for i, line in enumerate(file_txt.readlines()):\n",
    "        edge_tpl =  str(line.split()[0]), str(line.split()[1]),{'weight': 1}\n",
    "        edge_lst.append(edge_tpl)\n",
    "\n",
    "F = nx.from_edgelist(edge_lst)\n",
    "df = nx.to_pandas_adjacency(F)\n",
    "data = np.matrix(df)"
   ]
  },
  {
   "cell_type": "code",
   "execution_count": 12,
   "metadata": {
    "ExecuteTime": {
     "end_time": "2019-10-30T01:51:53.336804Z",
     "start_time": "2019-10-30T01:51:15.749890Z"
    }
   },
   "outputs": [
    {
     "name": "stdout",
     "output_type": "stream",
     "text": [
      "    训练集邻接矩阵：(3391, 3391)\n",
      "    训练集计划边数：7963\n",
      "    训练集实际边数：8427\n",
      "    测试集邻接矩阵：(3391, 3391)\n",
      "    测试集计划边数：464\n",
      "    测试集实际边数：433.5\n"
     ]
    }
   ],
   "source": [
    "train , test = DivideNet(data.copy(), 0.9)"
   ]
  },
  {
   "cell_type": "code",
   "execution_count": 18,
   "metadata": {
    "ExecuteTime": {
     "end_time": "2019-10-30T01:54:38.670800Z",
     "start_time": "2019-10-30T01:54:38.330680Z"
    }
   },
   "outputs": [
    {
     "data": {
      "text/plain": [
       "True"
      ]
     },
     "execution_count": 18,
     "metadata": {},
     "output_type": "execute_result"
    }
   ],
   "source": [
    "check_symmetric(train)"
   ]
  },
  {
   "cell_type": "code",
   "execution_count": 19,
   "metadata": {
    "ExecuteTime": {
     "end_time": "2019-10-30T02:03:11.024981Z",
     "start_time": "2019-10-30T02:03:11.011926Z"
    }
   },
   "outputs": [],
   "source": [
    "def Cn(MatrixAdjacency_Train):\n",
    "    \"\"\"\n",
    "    共同邻居算法\n",
    "    \"\"\"\n",
    "    Matrix_similarity = np.dot(MatrixAdjacency_Train,MatrixAdjacency_Train)\n",
    "    return Matrix_similarity"
   ]
  },
  {
   "cell_type": "code",
   "execution_count": 20,
   "metadata": {
    "ExecuteTime": {
     "end_time": "2019-10-30T02:03:55.569518Z",
     "start_time": "2019-10-30T02:03:54.633235Z"
    }
   },
   "outputs": [],
   "source": [
    "Matrix_similarity = Cn(train)"
   ]
  },
  {
   "cell_type": "code",
   "execution_count": 21,
   "metadata": {
    "ExecuteTime": {
     "end_time": "2019-10-30T02:04:05.811579Z",
     "start_time": "2019-10-30T02:04:05.804025Z"
    }
   },
   "outputs": [
    {
     "data": {
      "text/plain": [
       "matrix([[ 2.,  0.,  1., ...,  0.,  0.,  0.],\n",
       "        [ 0.,  1.,  1., ...,  0.,  0.,  0.],\n",
       "        [ 1.,  1., 18., ...,  0.,  0.,  0.],\n",
       "        ...,\n",
       "        [ 0.,  0.,  0., ...,  1.,  0.,  0.],\n",
       "        [ 0.,  0.,  0., ...,  0.,  1.,  0.],\n",
       "        [ 0.,  0.,  0., ...,  0.,  0.,  1.]])"
      ]
     },
     "execution_count": 21,
     "metadata": {},
     "output_type": "execute_result"
    }
   ],
   "source": [
    "Matrix_similarity"
   ]
  },
  {
   "cell_type": "code",
   "execution_count": 26,
   "metadata": {
    "ExecuteTime": {
     "end_time": "2019-10-30T02:08:06.332461Z",
     "start_time": "2019-10-30T02:08:06.268813Z"
    }
   },
   "outputs": [
    {
     "data": {
      "text/plain": [
       "43303"
      ]
     },
     "execution_count": 26,
     "metadata": {},
     "output_type": "execute_result"
    }
   ],
   "source": [
    "np.count_nonzero(Matrix_similarity)"
   ]
  },
  {
   "cell_type": "code",
   "execution_count": 25,
   "metadata": {
    "ExecuteTime": {
     "end_time": "2019-10-30T02:07:05.139027Z",
     "start_time": "2019-10-30T02:07:02.870875Z"
    }
   },
   "outputs": [
    {
     "data": {
      "image/png": "[encoded data removed]",
      "text/plain": [
       "<Figure size 432x288 with 1 Axes>"
      ]
     },
     "metadata": {
      "needs_background": "light"
     },
     "output_type": "display_data"
    },
    {
     "data": {
      "image/png": "[encoded data removed]",
      "text/plain": [
       "<Figure size 432x288 with 1 Axes>"
      ]
     },
     "metadata": {
      "needs_background": "light"
     },
     "output_type": "display_data"
    },
    {
     "data": {
      "image/png": "[encoded data removed]",
      "text/plain": [
       "<Figure size 432x288 with 1 Axes>"
      ]
     },
     "metadata": {
      "needs_background": "light"
     },
     "output_type": "display_data"
    },
    {
     "data": {
      "image/png": "[encoded data removed]",
      "text/plain": [
       "<Figure size 432x288 with 1 Axes>"
      ]
     },
     "metadata": {
      "needs_background": "light"
     },
     "output_type": "display_data"
    },
    {
     "data": {
      "image/png": "[encoded data removed]",
      "text/plain": [
       "<Figure size 432x288 with 1 Axes>"
      ]
     },
     "metadata": {
      "needs_background": "light"
     },
     "output_type": "display_data"
    },
    {
     "data": {
      "image/png": "[encoded data removed]",
      "text/plain": [
       "<Figure size 432x288 with 1 Axes>"
      ]
     },
     "metadata": {
      "needs_background": "light"
     },
     "output_type": "display_data"
    },
    {
     "data": {
      "image/png": "[encoded data removed]",
      "text/plain": [
       "<Figure size 432x288 with 1 Axes>"
      ]
     },
     "metadata": {
      "needs_background": "light"
     },
     "output_type": "display_data"
    },
    {
     "data": {
      "image/png": "[encoded data removed]",
      "text/plain": [
       "<Figure size 432x288 with 1 Axes>"
      ]
     },
     "metadata": {
      "needs_background": "light"
     },
     "output_type": "display_data"
    },
    {
     "data": {
      "image/png": "[encoded data removed]",
      "text/plain": [
       "<Figure size 432x288 with 1 Axes>"
      ]
     },
     "metadata": {
      "needs_background": "light"
     },
     "output_type": "display_data"
    },
    {
     "data": {
      "image/png": "[encoded data removed]",
      "text/plain": [
       "<Figure size 432x288 with 1 Axes>"
      ]
     },
     "metadata": {
      "needs_background": "light"
     },
     "output_type": "display_data"
    }
   ],
   "source": [
    "for i in range(10):\n",
    "    plt.figure(i)\n",
    "    plt.scatter([i for i in range(3391)],np.array(Matrix_similarity[:,i* 200]).ravel())"
   ]
  },
  {
   "cell_type": "markdown",
   "metadata": {},
   "source": [
    "----\n",
    "\n",
    "-----"
   ]
  },
  {
   "cell_type": "markdown",
   "metadata": {
    "ExecuteTime": {
     "end_time": "2019-10-30T02:27:58.608878Z",
     "start_time": "2019-10-30T02:27:58.602199Z"
    }
   },
   "source": [
    "# 逐项遍历\n",
    "\n",
    "> 类似于机器学习中的 留一取样\n",
    "\n",
    "* 规模较小的网络中， 更加精确的办法是 逐项遍历\n",
    "\n",
    "\n",
    "\n",
    "\n",
    "*  每次从网络中选取一条边作为测试边， 其余的边构成训练集。 一条测试边进行测试得到一个预测精度， 遍历网络中的所有 M 条边。得到一个预测精度的平均值\n",
    "\n",
    "\n",
    "\n",
    "* 计算复杂度特别高， 只适合小网络\n"
   ]
  },
  {
   "cell_type": "markdown",
   "metadata": {},
   "source": [
    "---------"
   ]
  },
  {
   "cell_type": "markdown",
   "metadata": {},
   "source": [
    "# K-fold 交叉检验\n",
    "\n",
    "* 将样本集随机分成 k 份， 选择其中的一份作为测试集，其余的 k-1 作为训练集\n",
    "\n",
    "\n",
    "\n",
    "* 试验重复 k 次， 计算精度的平均值\n",
    "\n",
    "\n",
    "\n",
    "* 保证了每条边都能作为测试边， 随机采样的做不到\n",
    "\n",
    "\n",
    "\n",
    "* 常用 10折检验\n",
    "\n"
   ]
  },
  {
   "cell_type": "markdown",
   "metadata": {},
   "source": [
    "------"
   ]
  },
  {
   "cell_type": "markdown",
   "metadata": {},
   "source": [
    "# 滚雪球抽样\n",
    "\n",
    "> 类似于 广度优先搜索\n",
    "\n",
    "\n",
    "* 初始的时候，随机选择一个或者一组节点构成样本集， 之后遍历样本集的每一个节点的所有邻居节点\n",
    "\n",
    "\n",
    "\n",
    "* 重复上述过程，直到样本集中的样本数量达到要求\n",
    "\n",
    "\n",
    "\n",
    "* 这种抽样的方法得到的是节点\n"
   ]
  },
  {
   "cell_type": "markdown",
   "metadata": {},
   "source": [
    "-----"
   ]
  },
  {
   "cell_type": "markdown",
   "metadata": {},
   "source": [
    "# 熟识者抽样\n",
    "\n",
    "\n",
    "* 倾向于把 度小的节点之间的连边放入到训练集，度大的节点之间的连边放入到测试集\n",
    "\n",
    "\n",
    "* 上述倾向也可以人为调整反过来"
   ]
  },
  {
   "cell_type": "markdown",
   "metadata": {},
   "source": [
    "--------"
   ]
  },
  {
   "cell_type": "markdown",
   "metadata": {},
   "source": [
    "# 随机游走采样\n",
    "\n",
    "\n",
    "> 通过一个粒子在网络上随机游走进行抽样\n",
    "\n",
    "* 1. 随机选择一个节点， 并放置一个粒子\n",
    "\n",
    "\n",
    "\n",
    "* 2. 粒子随机游走到当前节点的一个邻居节点， 粒子经过的边放入到训练集中\n",
    "\n",
    "\n",
    "\n",
    "* 3. 重复2 ， 直到训练集中的边的数目满足要求\n",
    "\n",
    "\n",
    "**保证训练集的连通性， 但是可能会丢失一些节点**\n",
    "\n",
    "\n"
   ]
  },
  {
   "cell_type": "markdown",
   "metadata": {},
   "source": [
    "-----"
   ]
  },
  {
   "cell_type": "markdown",
   "metadata": {},
   "source": [
    "# 基于路径抽样\n",
    "\n",
    "\n",
    "> 一般而言， 一条链路上如果包含的信息越多， 挑选出来的概率越大\n",
    "\n",
    "\n",
    "* 每一步随机选择两个节点， 一个视为信息报传输的起点， 一个视为终点。\n",
    "\n",
    "\n",
    "\n",
    "* 信息包选择一条最短路径从起点到终点\n",
    "\n",
    "\n",
    "\n",
    "* 每条边被信息包经过一次分数加1 \n",
    "\n",
    "\n",
    "\n",
    "* 分数值大于一定的阈值的边可以被加入到训练集\n",
    "\n",
    "\n",
    "\n",
    "**最短路径上出现次数最多的边被选入到训练集之中**"
   ]
  },
  {
   "cell_type": "code",
   "execution_count": null,
   "metadata": {},
   "outputs": [],
   "source": []
  }
 ],
 "metadata": {
  "kernelspec": {
   "display_name": "Python 3",
   "language": "python",
   "name": "python3"
  },
  "language_info": {
   "codemirror_mode": {
    "name": "ipython",
    "version": 3
   },
   "file_extension": ".py",
   "mimetype": "text/x-python",
   "name": "python",
   "nbconvert_exporter": "python",
   "pygments_lexer": "ipython3",
   "version": "3.7.4"
  },
  "toc": {
   "base_numbering": 1,
   "nav_menu": {},
   "number_sections": true,
   "sideBar": true,
   "skip_h1_title": false,
   "title_cell": "Table of Contents",
   "title_sidebar": "Contents",
   "toc_cell": true,
   "toc_position": {},
   "toc_section_display": true,
   "toc_window_display": false
  },
  "varInspector": {
   "cols": {
    "lenName": 16,
    "lenType": 16,
    "lenVar": 40
   },
   "kernels_config": {
    "python": {
     "delete_cmd_postfix": "",
     "delete_cmd_prefix": "del ",
     "library": "var_list.py",
     "varRefreshCmd": "print(var_dic_list())"
    },
    "r": {
     "delete_cmd_postfix": ") ",
     "delete_cmd_prefix": "rm(",
     "library": "var_list.r",
     "varRefreshCmd": "cat(var_dic_list()) "
    }
   },
   "oldHeight": 610,
   "position": {
    "height": "40px",
    "left": "974px",
    "right": "20px",
    "top": "103px",
    "width": "554px"
   },
   "types_to_exclude": [
    "module",
    "function",
    "builtin_function_or_method",
    "instance",
    "_Feature"
   ],
   "varInspector_section_display": "none",
   "window_display": true
  }
 },
 "nbformat": 4,
 "nbformat_minor": 2
}
