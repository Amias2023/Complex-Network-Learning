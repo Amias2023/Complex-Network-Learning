{
 "cells": [
  {
   "cell_type": "markdown",
   "metadata": {
    "toc": true
   },
   "source": [
    "<h1>Table of Contents<span class=\"tocSkip\"></span></h1>\n",
    "<div class=\"toc\"><ul class=\"toc-item\"><li><span><a href=\"#准备语料\" data-toc-modified-id=\"准备语料-1\"><span class=\"toc-item-num\">1&nbsp;&nbsp;</span>准备语料</a></span><ul class=\"toc-item\"><li><span><a href=\"#去除不重要的单词\" data-toc-modified-id=\"去除不重要的单词-1.1\"><span class=\"toc-item-num\">1.1&nbsp;&nbsp;</span>去除不重要的单词</a></span></li><li><span><a href=\"#去除-只出现一次的单词\" data-toc-modified-id=\"去除-只出现一次的单词-1.2\"><span class=\"toc-item-num\">1.2&nbsp;&nbsp;</span>去除 只出现一次的单词</a></span></li></ul></li><li><span><a href=\"#文档转化为向量\" data-toc-modified-id=\"文档转化为向量-2\"><span class=\"toc-item-num\">2&nbsp;&nbsp;</span>文档转化为向量</a></span><ul class=\"toc-item\"><li><span><a href=\"#转化原则\" data-toc-modified-id=\"转化原则-2.1\"><span class=\"toc-item-num\">2.1&nbsp;&nbsp;</span>转化原则</a></span></li><li><span><a href=\"#创建字典\" data-toc-modified-id=\"创建字典-2.2\"><span class=\"toc-item-num\">2.2&nbsp;&nbsp;</span>创建字典</a></span></li><li><span><a href=\"#字典中每个key对应的编号\" data-toc-modified-id=\"字典中每个key对应的编号-2.3\"><span class=\"toc-item-num\">2.3&nbsp;&nbsp;</span>字典中每个key对应的编号</a></span></li><li><span><a href=\"#使用doc2brow-转化为向量\" data-toc-modified-id=\"使用doc2brow-转化为向量-2.4\"><span class=\"toc-item-num\">2.4&nbsp;&nbsp;</span>使用doc2brow 转化为向量</a></span></li></ul></li><li><span><a href=\"#处理单个文档流-----不是全部文档\" data-toc-modified-id=\"处理单个文档流-----不是全部文档-3\"><span class=\"toc-item-num\">3&nbsp;&nbsp;</span>处理单个文档流 --- 不是全部文档</a></span></li><li><span><a href=\"#不需要将文件全部导入构建语料库\" data-toc-modified-id=\"不需要将文件全部导入构建语料库-4\"><span class=\"toc-item-num\">4&nbsp;&nbsp;</span>不需要将文件全部导入构建语料库</a></span></li><li><span><a href=\"#corpus储存和导入\" data-toc-modified-id=\"corpus储存和导入-5\"><span class=\"toc-item-num\">5&nbsp;&nbsp;</span>corpus储存和导入</a></span></li><li><span><a href=\"#numpy-矩阵之间转化\" data-toc-modified-id=\"numpy-矩阵之间转化-6\"><span class=\"toc-item-num\">6&nbsp;&nbsp;</span>numpy 矩阵之间转化</a></span></li></ul></div>"
   ]
  },
  {
   "cell_type": "markdown",
   "metadata": {},
   "source": [
    "# 准备语料"
   ]
  },
  {
   "cell_type": "code",
   "execution_count": 5,
   "metadata": {
    "ExecuteTime": {
     "end_time": "2018-12-24T08:02:23.906297Z",
     "start_time": "2018-12-24T08:02:23.902963Z"
    },
    "code_folding": []
   },
   "outputs": [],
   "source": [
    "from gensim import corpora\n",
    "\n",
    "documents = [\"Human machine interface for lab abc computer applications\",\n",
    "             \"A survey of user opinion of computer system response time\",\n",
    "             \"The EPS user interface management system\",\n",
    "             \"System and human system engineering testing of EPS\",\n",
    "              \"Relation of user perceived response time to error measurement\",\n",
    "              \"The generation of random binary unordered trees\",\n",
    "              \"The intersection graph of paths in trees\",\n",
    "              \"Graph minors IV Widths of trees and well quasi ordering\",\n",
    "             \"Graph minors A survey\"]\n",
    "\n",
    "from pprint import pprint\n",
    "\n"
   ]
  },
  {
   "cell_type": "markdown",
   "metadata": {},
   "source": [
    "## 去除不重要的单词"
   ]
  },
  {
   "cell_type": "code",
   "execution_count": 18,
   "metadata": {
    "ExecuteTime": {
     "end_time": "2018-12-24T08:10:43.678256Z",
     "start_time": "2018-12-24T08:10:43.673550Z"
    }
   },
   "outputs": [
    {
     "name": "stdout",
     "output_type": "stream",
     "text": [
      "[['human', 'machine', 'interface', 'lab', 'abc', 'computer', 'applications'],\n",
      " ['survey', 'user', 'opinion', 'computer', 'system', 'response', 'time'],\n",
      " ['eps', 'user', 'interface', 'management', 'system'],\n",
      " ['system', 'human', 'system', 'engineering', 'testing', 'eps'],\n",
      " ['relation', 'user', 'perceived', 'response', 'time', 'error', 'measurement'],\n",
      " ['generation', 'random', 'binary', 'unordered', 'trees'],\n",
      " ['intersection', 'graph', 'paths', 'trees'],\n",
      " ['graph', 'minors', 'iv', 'widths', 'trees', 'well', 'quasi', 'ordering'],\n",
      " ['graph', 'minors', 'survey']]\n"
     ]
    }
   ],
   "source": [
    "# 去除不重要的单词\n",
    "stoplist = set('for the a and an if in on of to '.split())\n",
    "texts = [[word for word in document.lower().split() if word not in stoplist]\n",
    "         for document in documents]\n",
    "pprint(texts)"
   ]
  },
  {
   "cell_type": "markdown",
   "metadata": {
    "ExecuteTime": {
     "end_time": "2018-12-24T08:26:51.348610Z",
     "start_time": "2018-12-24T08:26:51.346285Z"
    }
   },
   "source": [
    "## 去除 只出现一次的单词"
   ]
  },
  {
   "cell_type": "code",
   "execution_count": 19,
   "metadata": {
    "ExecuteTime": {
     "end_time": "2018-12-24T08:10:44.678792Z",
     "start_time": "2018-12-24T08:10:44.673736Z"
    }
   },
   "outputs": [
    {
     "name": "stdout",
     "output_type": "stream",
     "text": [
      "[['human', 'interface', 'computer'],\n",
      " ['survey', 'user', 'computer', 'system', 'response', 'time'],\n",
      " ['eps', 'user', 'interface', 'system'],\n",
      " ['system', 'human', 'system', 'eps'],\n",
      " ['user', 'response', 'time'],\n",
      " ['trees'],\n",
      " ['graph', 'trees'],\n",
      " ['graph', 'minors', 'trees'],\n",
      " ['graph', 'minors', 'survey']]\n"
     ]
    }
   ],
   "source": [
    "# 去除 只出现一次的单词\n",
    "from collections import defaultdict\n",
    "frequency = defaultdict(int)\n",
    "\n",
    "for text in texts:\n",
    "    for token in text:\n",
    "        frequency[token] += 1\n",
    "\n",
    "texts = [[token for token in text if frequency[token] > 1] for text in texts]  # !! 控制出现的次数\n",
    "pprint(texts)\n"
   ]
  },
  {
   "cell_type": "markdown",
   "metadata": {},
   "source": [
    "# 文档转化为向量"
   ]
  },
  {
   "cell_type": "markdown",
   "metadata": {},
   "source": [
    "## 转化原则\n",
    "* each document is represented by one vector where each vector element represents a question-answer pair, in the style of:\n",
    "\n",
    "* “How many times does the word system appear in the document? Once.”\n"
   ]
  },
  {
   "cell_type": "markdown",
   "metadata": {},
   "source": [
    "## 创建字典"
   ]
  },
  {
   "cell_type": "code",
   "execution_count": 22,
   "metadata": {
    "ExecuteTime": {
     "end_time": "2018-12-24T08:16:03.173200Z",
     "start_time": "2018-12-24T08:16:03.168070Z"
    }
   },
   "outputs": [
    {
     "name": "stdout",
     "output_type": "stream",
     "text": [
      "Dictionary(12 unique tokens: ['computer', 'human', 'interface', 'response', 'survey']...)\n"
     ]
    }
   ],
   "source": [
    "dictionary = corpora.Dictionary(texts)\n",
    "print(dictionary)"
   ]
  },
  {
   "cell_type": "markdown",
   "metadata": {},
   "source": [
    "## 字典中每个key对应的编号"
   ]
  },
  {
   "cell_type": "code",
   "execution_count": 25,
   "metadata": {
    "ExecuteTime": {
     "end_time": "2018-12-24T08:17:51.400891Z",
     "start_time": "2018-12-24T08:17:51.397457Z"
    }
   },
   "outputs": [
    {
     "name": "stdout",
     "output_type": "stream",
     "text": [
      "{'computer': 0, 'human': 1, 'interface': 2, 'response': 3, 'survey': 4, 'system': 5, 'time': 6, 'user': 7, 'eps': 8, 'trees': 9, 'graph': 10, 'minors': 11}\n"
     ]
    }
   ],
   "source": [
    "print(dictionary.token2id)"
   ]
  },
  {
   "cell_type": "markdown",
   "metadata": {},
   "source": [
    "## 使用doc2brow 转化为向量"
   ]
  },
  {
   "cell_type": "code",
   "execution_count": 26,
   "metadata": {
    "ExecuteTime": {
     "end_time": "2018-12-24T08:21:37.043808Z",
     "start_time": "2018-12-24T08:21:37.038547Z"
    }
   },
   "outputs": [
    {
     "name": "stdout",
     "output_type": "stream",
     "text": [
      "[[(0, 1), (1, 1), (2, 1)],\n",
      " [(0, 1), (3, 1), (4, 1), (5, 1), (6, 1), (7, 1)],\n",
      " [(2, 1), (5, 1), (7, 1), (8, 1)],\n",
      " [(1, 1), (5, 2), (8, 1)],\n",
      " [(3, 1), (6, 1), (7, 1)],\n",
      " [(9, 1)],\n",
      " [(9, 1), (10, 1)],\n",
      " [(9, 1), (10, 1), (11, 1)],\n",
      " [(4, 1), (10, 1), (11, 1)]]\n"
     ]
    }
   ],
   "source": [
    "corpus = [dictionary.doc2bow(text) for text in texts]\n",
    "pprint(corpus)"
   ]
  },
  {
   "cell_type": "markdown",
   "metadata": {},
   "source": [
    "* 对应与上文的texts 矩阵  （10，1） 最后一行的10，1 表示 10 对应的 graph 在最后一行 即最后一个文档出现了1 次"
   ]
  },
  {
   "cell_type": "markdown",
   "metadata": {},
   "source": [
    "# 处理单个文档流 --- 不是全部文档"
   ]
  },
  {
   "cell_type": "code",
   "execution_count": 29,
   "metadata": {
    "ExecuteTime": {
     "end_time": "2018-12-24T08:37:50.271452Z",
     "start_time": "2018-12-24T08:37:50.266676Z"
    }
   },
   "outputs": [
    {
     "name": "stdout",
     "output_type": "stream",
     "text": [
      "<__main__.Mycorpus object at 0x1a1c7edc88>\n"
     ]
    }
   ],
   "source": [
    "class Mycorpus(object):\n",
    "    def __iter__(self):\n",
    "        for line in open('mycorpus.txt'):\n",
    "            yield dictionary.doc2bow(line.lower().split())\n",
    "\n",
    "\n",
    "mycorpus = Mycorpus()\n",
    "print(mycorpus)"
   ]
  },
  {
   "cell_type": "markdown",
   "metadata": {},
   "source": [
    "* 生成的corpus 是一个object 打印的是他的地址"
   ]
  },
  {
   "cell_type": "code",
   "execution_count": 30,
   "metadata": {
    "ExecuteTime": {
     "end_time": "2018-12-24T08:39:52.658367Z",
     "start_time": "2018-12-24T08:39:52.651953Z"
    }
   },
   "outputs": [
    {
     "name": "stdout",
     "output_type": "stream",
     "text": [
      "[(0, 1), (1, 1), (2, 1)]\n",
      "[(0, 1), (3, 1), (4, 1), (5, 1), (6, 1), (7, 1)]\n",
      "[(2, 1), (5, 1), (7, 1), (8, 1)]\n",
      "[(1, 1), (5, 2), (8, 1)]\n",
      "[(3, 1), (6, 1), (7, 1)]\n",
      "[(9, 1)]\n",
      "[(9, 1), (10, 1)]\n",
      "[(9, 1), (10, 1), (11, 1)]\n",
      "[(4, 1), (10, 1), (11, 1)]\n"
     ]
    }
   ],
   "source": [
    "for vector in mycorpus:\n",
    "    print(vector)"
   ]
  },
  {
   "cell_type": "markdown",
   "metadata": {},
   "source": [
    "* 输出相同，但是每次内存只存储一个文档的内容"
   ]
  },
  {
   "cell_type": "markdown",
   "metadata": {},
   "source": [
    "# 不需要将文件全部导入构建语料库"
   ]
  },
  {
   "cell_type": "code",
   "execution_count": 33,
   "metadata": {
    "ExecuteTime": {
     "end_time": "2018-12-24T08:47:55.110606Z",
     "start_time": "2018-12-24T08:47:55.102566Z"
    }
   },
   "outputs": [
    {
     "name": "stdout",
     "output_type": "stream",
     "text": [
      "Dictionary(12 unique tokens: ['computer', 'human', 'interface', 'response', 'survey']...)\n"
     ]
    }
   ],
   "source": [
    "from six import iteritems\n",
    "# collect statistics about all tokens\n",
    "dictionary = corpora.Dictionary(\n",
    "    line.lower().split() for line in open('mycorpus.txt'))\n",
    "# remove stop words and words that appear only once\n",
    "stop_ids = [\n",
    "    dictionary.token2id[stopword] for stopword in stoplist\n",
    "    if stopword in dictionary.token2id\n",
    "]\n",
    "once_ids = [\n",
    "    tokenid for tokenid, docfreq in iteritems(dictionary.dfs) if docfreq == 1\n",
    "]\n",
    "dictionary.filter_tokens(\n",
    "    stop_ids + once_ids)  # remove stop words and words that appear only once\n",
    "dictionary.compactify(\n",
    ")  # remove gaps in id sequence after words that were removed\n",
    "print(dictionary)"
   ]
  },
  {
   "cell_type": "markdown",
   "metadata": {},
   "source": [
    "# corpus储存和导入 "
   ]
  },
  {
   "cell_type": "code",
   "execution_count": 34,
   "metadata": {
    "ExecuteTime": {
     "end_time": "2018-12-24T11:49:11.617350Z",
     "start_time": "2018-12-24T11:49:11.603143Z"
    }
   },
   "outputs": [],
   "source": [
    "corpora.MmCorpus.serialize('corpus.mm', corpus)"
   ]
  },
  {
   "cell_type": "code",
   "execution_count": 36,
   "metadata": {
    "ExecuteTime": {
     "end_time": "2018-12-24T11:49:26.617048Z",
     "start_time": "2018-12-24T11:49:26.611160Z"
    }
   },
   "outputs": [
    {
     "name": "stdout",
     "output_type": "stream",
     "text": [
      "MmCorpus(9 documents, 12 features, 28 non-zero entries)\n"
     ]
    }
   ],
   "source": [
    "corpus = corpora.MmCorpus('corpus.mm')\n",
    "print(corpus)"
   ]
  },
  {
   "cell_type": "markdown",
   "metadata": {},
   "source": [
    "* To view the contents of a corpus:"
   ]
  },
  {
   "cell_type": "code",
   "execution_count": 37,
   "metadata": {
    "ExecuteTime": {
     "end_time": "2018-12-24T11:52:16.986806Z",
     "start_time": "2018-12-24T11:52:16.979277Z"
    }
   },
   "outputs": [
    {
     "name": "stdout",
     "output_type": "stream",
     "text": [
      "[[(0, 1.0), (1, 1.0), (2, 1.0)],\n",
      " [(0, 1.0), (3, 1.0), (4, 1.0), (5, 1.0), (6, 1.0), (7, 1.0)],\n",
      " [(2, 1.0), (5, 1.0), (7, 1.0), (8, 1.0)],\n",
      " [(1, 1.0), (5, 2.0), (8, 1.0)],\n",
      " [(3, 1.0), (6, 1.0), (7, 1.0)],\n",
      " [(9, 1.0)],\n",
      " [(9, 1.0), (10, 1.0)],\n",
      " [(9, 1.0), (10, 1.0), (11, 1.0)],\n",
      " [(4, 1.0), (10, 1.0), (11, 1.0)]]\n"
     ]
    }
   ],
   "source": [
    "pprint(list(corpus))"
   ]
  },
  {
   "cell_type": "markdown",
   "metadata": {},
   "source": [
    "# numpy 矩阵之间转化"
   ]
  },
  {
   "cell_type": "code",
   "execution_count": 38,
   "metadata": {
    "ExecuteTime": {
     "end_time": "2018-12-24T11:56:18.022588Z",
     "start_time": "2018-12-24T11:56:17.928829Z"
    }
   },
   "outputs": [
    {
     "data": {
      "text/plain": [
       "array([[6, 3],\n",
       "       [4, 8],\n",
       "       [2, 6],\n",
       "       [0, 1],\n",
       "       [4, 6]])"
      ]
     },
     "execution_count": 38,
     "metadata": {},
     "output_type": "execute_result"
    }
   ],
   "source": [
    "import numpy as np\n",
    "numpy_matrix = np.random.randint(10, size=[5, 2])\n",
    "numpy_matrix"
   ]
  },
  {
   "cell_type": "code",
   "execution_count": 43,
   "metadata": {
    "ExecuteTime": {
     "end_time": "2018-12-24T11:59:05.545393Z",
     "start_time": "2018-12-24T11:59:05.539273Z"
    }
   },
   "outputs": [
    {
     "name": "stdout",
     "output_type": "stream",
     "text": [
      "[[(0, 6.0), (1, 4.0), (2, 2.0), (4, 4.0)],\n",
      " [(0, 3.0), (1, 8.0), (2, 6.0), (3, 1.0), (4, 6.0)]]\n"
     ]
    }
   ],
   "source": [
    "import gensim\n",
    "corpus = gensim.matutils.Dense2Corpus(numpy_matrix)\n",
    "pprint(list(corpus))"
   ]
  },
  {
   "cell_type": "code",
   "execution_count": null,
   "metadata": {},
   "outputs": [],
   "source": []
  }
 ],
 "metadata": {
  "kernelspec": {
   "display_name": "Python 3",
   "language": "python",
   "name": "python3"
  },
  "language_info": {
   "codemirror_mode": {
    "name": "ipython",
    "version": 3
   },
   "file_extension": ".py",
   "mimetype": "text/x-python",
   "name": "python",
   "nbconvert_exporter": "python",
   "pygments_lexer": "ipython3",
   "version": "3.6.5"
  },
  "toc": {
   "base_numbering": 1,
   "nav_menu": {},
   "number_sections": true,
   "sideBar": true,
   "skip_h1_title": false,
   "title_cell": "Table of Contents",
   "title_sidebar": "Contents",
   "toc_cell": true,
   "toc_position": {},
   "toc_section_display": true,
   "toc_window_display": false
  },
  "varInspector": {
   "cols": {
    "lenName": 16,
    "lenType": 16,
    "lenVar": 40
   },
   "kernels_config": {
    "python": {
     "delete_cmd_postfix": "",
     "delete_cmd_prefix": "del ",
     "library": "var_list.py",
     "varRefreshCmd": "print(var_dic_list())"
    },
    "r": {
     "delete_cmd_postfix": ") ",
     "delete_cmd_prefix": "rm(",
     "library": "var_list.r",
     "varRefreshCmd": "cat(var_dic_list()) "
    }
   },
   "oldHeight": 122,
   "position": {
    "height": "40px",
    "left": "1170px",
    "right": "20px",
    "top": "120px",
    "width": "250px"
   },
   "types_to_exclude": [
    "module",
    "function",
    "builtin_function_or_method",
    "instance",
    "_Feature"
   ],
   "varInspector_section_display": "none",
   "window_display": false
  }
 },
 "nbformat": 4,
 "nbformat_minor": 2
}
