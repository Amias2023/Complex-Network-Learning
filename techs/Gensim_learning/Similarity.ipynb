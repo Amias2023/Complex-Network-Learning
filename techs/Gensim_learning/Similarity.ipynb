{
 "cells": [
  {
   "cell_type": "markdown",
   "metadata": {
    "toc": true
   },
   "source": [
    "<h1>Table of Contents<span class=\"tocSkip\"></span></h1>\n",
    "<div class=\"toc\"><ul class=\"toc-item\"><li><span><a href=\"#Similarity-interface\" data-toc-modified-id=\"Similarity-interface-1\"><span class=\"toc-item-num\">1&nbsp;&nbsp;</span>Similarity interface</a></span><ul class=\"toc-item\"><li><span><a href=\"#LSI-生成向量\" data-toc-modified-id=\"LSI-生成向量-1.1\"><span class=\"toc-item-num\">1.1&nbsp;&nbsp;</span>LSI 生成向量</a></span></li><li><span><a href=\"#余弦向量比较相似性\" data-toc-modified-id=\"余弦向量比较相似性-1.2\"><span class=\"toc-item-num\">1.2&nbsp;&nbsp;</span>余弦向量比较相似性</a></span></li><li><span><a href=\"#初始化query-结构模型\" data-toc-modified-id=\"初始化query-结构模型-1.3\"><span class=\"toc-item-num\">1.3&nbsp;&nbsp;</span>初始化query 结构模型</a></span><ul class=\"toc-item\"><li><span><a href=\"#Warning\" data-toc-modified-id=\"Warning-1.3.1\"><span class=\"toc-item-num\">1.3.1&nbsp;&nbsp;</span>Warning</a></span></li><li><span><a href=\"#导入和导出-index\" data-toc-modified-id=\"导入和导出-index-1.3.2\"><span class=\"toc-item-num\">1.3.2&nbsp;&nbsp;</span>导入和导出 index</a></span></li></ul></li><li><span><a href=\"#查找相似性--利用index\" data-toc-modified-id=\"查找相似性--利用index-1.4\"><span class=\"toc-item-num\">1.4&nbsp;&nbsp;</span>查找相似性--利用index</a></span></li><li><span><a href=\"#进行降序排列\" data-toc-modified-id=\"进行降序排列-1.5\"><span class=\"toc-item-num\">1.5&nbsp;&nbsp;</span>进行降序排列</a></span></li></ul></li></ul></div>"
   ]
  },
  {
   "cell_type": "code",
   "execution_count": 1,
   "metadata": {
    "ExecuteTime": {
     "end_time": "2018-12-24T16:15:51.361768Z",
     "start_time": "2018-12-24T16:15:51.359138Z"
    }
   },
   "outputs": [],
   "source": [
    "import logging\n",
    "logging.basicConfig(format='%(asctime)s : %(levelname)s : %(message)s', level=logging.INFO)\n"
   ]
  },
  {
   "cell_type": "markdown",
   "metadata": {},
   "source": [
    "# Similarity interface\n",
    "* similarity between pairs of document"
   ]
  },
  {
   "cell_type": "code",
   "execution_count": 2,
   "metadata": {
    "ExecuteTime": {
     "end_time": "2018-12-24T16:20:38.707627Z",
     "start_time": "2018-12-24T16:20:36.652248Z"
    },
    "collapsed": true
   },
   "outputs": [
    {
     "name": "stderr",
     "output_type": "stream",
     "text": [
      "2018-12-25 00:20:38,690 : INFO : 'pattern' package not found; tag filters are not available for English\n",
      "2018-12-25 00:20:38,698 : INFO : loading Dictionary object from deerwester.dict\n",
      "2018-12-25 00:20:38,699 : INFO : loaded deerwester.dict\n",
      "2018-12-25 00:20:38,701 : INFO : loaded corpus index from corpus.mm.index\n",
      "2018-12-25 00:20:38,702 : INFO : initializing cython corpus reader from corpus.mm\n",
      "2018-12-25 00:20:38,704 : INFO : accepted corpus with 9 documents, 12 features, 28 non-zero entries\n"
     ]
    },
    {
     "name": "stdout",
     "output_type": "stream",
     "text": [
      "MmCorpus(9 documents, 12 features, 28 non-zero entries)\n"
     ]
    }
   ],
   "source": [
    "from gensim import corpora, models, similarities\n",
    "\n",
    "dictionary = corpora.Dictionary.load('deerwester.dict')\n",
    "corpus = corpora.MmCorpus('corpus.mm')\n",
    "print(corpus)"
   ]
  },
  {
   "cell_type": "code",
   "execution_count": 3,
   "metadata": {
    "ExecuteTime": {
     "end_time": "2018-12-24T16:21:25.901080Z",
     "start_time": "2018-12-24T16:21:25.889792Z"
    }
   },
   "outputs": [
    {
     "data": {
      "text/plain": [
       "[[(0, 1.0), (1, 1.0), (2, 1.0)],\n",
       " [(0, 1.0), (3, 1.0), (4, 1.0), (5, 1.0), (6, 1.0), (7, 1.0)],\n",
       " [(2, 1.0), (5, 1.0), (7, 1.0), (8, 1.0)],\n",
       " [(1, 1.0), (5, 2.0), (8, 1.0)],\n",
       " [(3, 1.0), (6, 1.0), (7, 1.0)],\n",
       " [(9, 1.0)],\n",
       " [(9, 1.0), (10, 1.0)],\n",
       " [(9, 1.0), (10, 1.0), (11, 1.0)],\n",
       " [(4, 1.0), (10, 1.0), (11, 1.0)]]"
      ]
     },
     "execution_count": 3,
     "metadata": {},
     "output_type": "execute_result"
    }
   ],
   "source": [
    "list(corpus)"
   ]
  },
  {
   "cell_type": "markdown",
   "metadata": {},
   "source": [
    "## LSI 生成向量"
   ]
  },
  {
   "cell_type": "code",
   "execution_count": 4,
   "metadata": {
    "ExecuteTime": {
     "end_time": "2018-12-24T16:21:49.415183Z",
     "start_time": "2018-12-24T16:21:49.385473Z"
    },
    "collapsed": true
   },
   "outputs": [
    {
     "name": "stderr",
     "output_type": "stream",
     "text": [
      "2018-12-25 00:21:49,386 : INFO : using serial LSI version on this node\n",
      "2018-12-25 00:21:49,387 : INFO : updating model with new documents\n",
      "2018-12-25 00:21:49,389 : INFO : preparing a new chunk of documents\n",
      "2018-12-25 00:21:49,390 : INFO : using 100 extra samples and 2 power iterations\n",
      "2018-12-25 00:21:49,391 : INFO : 1st phase: constructing (12, 102) action matrix\n",
      "2018-12-25 00:21:49,392 : INFO : orthonormalizing (12, 102) action matrix\n",
      "2018-12-25 00:21:49,403 : INFO : 2nd phase: running dense svd on (12, 9) matrix\n",
      "2018-12-25 00:21:49,406 : INFO : computing the final decomposition\n",
      "2018-12-25 00:21:49,407 : INFO : keeping 2 factors (discarding 43.156% of energy spectrum)\n",
      "2018-12-25 00:21:49,409 : INFO : processed documents up to #9\n",
      "2018-12-25 00:21:49,411 : INFO : topic #0(3.341): 0.644*\"system\" + 0.404*\"user\" + 0.301*\"eps\" + 0.265*\"response\" + 0.265*\"time\" + 0.240*\"computer\" + 0.221*\"human\" + 0.206*\"survey\" + 0.198*\"interface\" + 0.036*\"graph\"\n",
      "2018-12-25 00:21:49,412 : INFO : topic #1(2.542): -0.623*\"graph\" + -0.490*\"trees\" + -0.451*\"minors\" + -0.274*\"survey\" + 0.167*\"system\" + 0.141*\"eps\" + 0.113*\"human\" + -0.107*\"response\" + -0.107*\"time\" + 0.072*\"interface\"\n"
     ]
    }
   ],
   "source": [
    "lsi = models.LsiModel(corpus, id2word=dictionary, num_topics=2)"
   ]
  },
  {
   "cell_type": "code",
   "execution_count": 5,
   "metadata": {
    "ExecuteTime": {
     "end_time": "2018-12-24T16:22:48.534203Z",
     "start_time": "2018-12-24T16:22:48.530296Z"
    }
   },
   "outputs": [],
   "source": [
    "doc = \"Human computer interaction\"\n",
    "vec_bow = dictionary.doc2bow(doc.lower().split())"
   ]
  },
  {
   "cell_type": "code",
   "execution_count": 6,
   "metadata": {
    "ExecuteTime": {
     "end_time": "2018-12-24T16:23:08.499842Z",
     "start_time": "2018-12-24T16:23:08.495821Z"
    }
   },
   "outputs": [
    {
     "name": "stdout",
     "output_type": "stream",
     "text": [
      "[(0, 0.4618210045327161), (1, 0.07002766527900028)]\n"
     ]
    }
   ],
   "source": [
    "vec_lsi = lsi[vec_bow]\n",
    "print(vec_lsi)"
   ]
  },
  {
   "cell_type": "markdown",
   "metadata": {},
   "source": [
    "## 余弦向量比较相似性"
   ]
  },
  {
   "cell_type": "markdown",
   "metadata": {},
   "source": [
    "## 初始化query 结构模型"
   ]
  },
  {
   "cell_type": "code",
   "execution_count": 7,
   "metadata": {
    "ExecuteTime": {
     "end_time": "2018-12-24T16:29:36.294759Z",
     "start_time": "2018-12-24T16:29:36.280547Z"
    }
   },
   "outputs": [
    {
     "name": "stderr",
     "output_type": "stream",
     "text": [
      "2018-12-25 00:29:36,282 : WARNING : scanning corpus to determine the number of features (consider setting `num_features` explicitly)\n",
      "2018-12-25 00:29:36,284 : INFO : creating matrix with 9 documents and 2 features\n",
      "/Users/liuchuang/anaconda3/lib/python3.6/site-packages/gensim/matutils.py:737: FutureWarning: Conversion of the second argument of issubdtype from `int` to `np.signedinteger` is deprecated. In future, it will be treated as `np.int64 == np.dtype(int).type`.\n",
      "  if np.issubdtype(vec.dtype, np.int):\n"
     ]
    }
   ],
   "source": [
    "index = similarities.MatrixSimilarity(lsi[corpus]) # transform corpus to LSI space and index it"
   ]
  },
  {
   "cell_type": "markdown",
   "metadata": {},
   "source": [
    "### Warning\n",
    "\n",
    "* similarities.MatrixSimilarity : 只适合所有的向量都放进内存里面\n",
    "    \n",
    "* 如果内存不足，similarities.Similarity class： 在固定的内存上操作，分割成多个文件"
   ]
  },
  {
   "cell_type": "markdown",
   "metadata": {},
   "source": [
    "### 导入和导出 index"
   ]
  },
  {
   "cell_type": "code",
   "execution_count": 8,
   "metadata": {
    "ExecuteTime": {
     "end_time": "2018-12-24T16:35:07.189198Z",
     "start_time": "2018-12-24T16:35:07.181988Z"
    }
   },
   "outputs": [
    {
     "name": "stderr",
     "output_type": "stream",
     "text": [
      "2018-12-25 00:35:07,183 : INFO : saving MatrixSimilarity object under deerwester.index, separately None\n",
      "2018-12-25 00:35:07,185 : INFO : saved deerwester.index\n",
      "2018-12-25 00:35:07,185 : INFO : loading MatrixSimilarity object from deerwester.index\n",
      "2018-12-25 00:35:07,186 : INFO : loaded deerwester.index\n"
     ]
    }
   ],
   "source": [
    "index.save('deerwester.index')\n",
    "index = similarities.MatrixSimilarity.load('deerwester.index')"
   ]
  },
  {
   "cell_type": "markdown",
   "metadata": {},
   "source": [
    "## 查找相似性--利用index"
   ]
  },
  {
   "cell_type": "code",
   "execution_count": 9,
   "metadata": {
    "ExecuteTime": {
     "end_time": "2018-12-24T16:37:36.135714Z",
     "start_time": "2018-12-24T16:37:36.109116Z"
    }
   },
   "outputs": [
    {
     "name": "stdout",
     "output_type": "stream",
     "text": [
      "[(0, 0.998093), (1, 0.93748635), (2, 0.9984453), (3, 0.9865886), (4, 0.90755945), (5, -0.12416792), (6, -0.10639259), (7, -0.09879464), (8, 0.050041765)]\n"
     ]
    }
   ],
   "source": [
    "sims = index[vec_lsi] # perform a similarity query against the corpus\n",
    "print(list(enumerate(sims))) # print (document_number, document_similarity) 2-tuples"
   ]
  },
  {
   "cell_type": "markdown",
   "metadata": {},
   "source": [
    "## 进行降序排列"
   ]
  },
  {
   "cell_type": "code",
   "execution_count": 10,
   "metadata": {
    "ExecuteTime": {
     "end_time": "2018-12-24T16:40:00.331398Z",
     "start_time": "2018-12-24T16:40:00.326759Z"
    }
   },
   "outputs": [
    {
     "name": "stdout",
     "output_type": "stream",
     "text": [
      "[(2, 0.9984453), (0, 0.998093), (3, 0.9865886), (1, 0.93748635), (4, 0.90755945), (8, 0.050041765), (7, -0.09879464), (6, -0.10639259), (5, -0.12416792)]\n"
     ]
    }
   ],
   "source": [
    "sims = sorted(enumerate(sims), key=lambda item: -item[1])\n",
    "print(sims) # print sorted (document number, similarity score) 2-tuples"
   ]
  },
  {
   "cell_type": "markdown",
   "metadata": {
    "ExecuteTime": {
     "end_time": "2018-12-24T16:42:31.217366Z",
     "start_time": "2018-12-24T16:42:31.211667Z"
    }
   },
   "source": [
    "* 可以看出 分值越大 主题越符合"
   ]
  },
  {
   "cell_type": "code",
   "execution_count": null,
   "metadata": {},
   "outputs": [],
   "source": []
  }
 ],
 "metadata": {
  "kernelspec": {
   "display_name": "Python 3",
   "language": "python",
   "name": "python3"
  },
  "language_info": {
   "codemirror_mode": {
    "name": "ipython",
    "version": 3
   },
   "file_extension": ".py",
   "mimetype": "text/x-python",
   "name": "python",
   "nbconvert_exporter": "python",
   "pygments_lexer": "ipython3",
   "version": "3.6.5"
  },
  "toc": {
   "base_numbering": 1,
   "nav_menu": {},
   "number_sections": true,
   "sideBar": true,
   "skip_h1_title": false,
   "title_cell": "Table of Contents",
   "title_sidebar": "Contents",
   "toc_cell": true,
   "toc_position": {},
   "toc_section_display": true,
   "toc_window_display": false
  },
  "varInspector": {
   "cols": {
    "lenName": 16,
    "lenType": 16,
    "lenVar": 40
   },
   "kernels_config": {
    "python": {
     "delete_cmd_postfix": "",
     "delete_cmd_prefix": "del ",
     "library": "var_list.py",
     "varRefreshCmd": "print(var_dic_list())"
    },
    "r": {
     "delete_cmd_postfix": ") ",
     "delete_cmd_prefix": "rm(",
     "library": "var_list.r",
     "varRefreshCmd": "cat(var_dic_list()) "
    }
   },
   "types_to_exclude": [
    "module",
    "function",
    "builtin_function_or_method",
    "instance",
    "_Feature"
   ],
   "window_display": true
  }
 },
 "nbformat": 4,
 "nbformat_minor": 2
}
