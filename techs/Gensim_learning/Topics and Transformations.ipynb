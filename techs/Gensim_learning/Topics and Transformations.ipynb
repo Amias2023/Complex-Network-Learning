{
 "cells": [
  {
   "cell_type": "markdown",
   "metadata": {
    "toc": true
   },
   "source": [
    "<h1>Table of Contents<span class=\"tocSkip\"></span></h1>\n",
    "<div class=\"toc\"><ul class=\"toc-item\"><li><span><a href=\"#导入-corpus\" data-toc-modified-id=\"导入-corpus-1\"><span class=\"toc-item-num\">1&nbsp;&nbsp;</span>导入 corpus</a></span></li><li><span><a href=\"#Transform-documents-from-one-vector-representation-into-another\" data-toc-modified-id=\"Transform-documents-from-one-vector-representation-into-another-2\"><span class=\"toc-item-num\">2&nbsp;&nbsp;</span>Transform documents from one vector representation into another</a></span></li><li><span><a href=\"#创建一个转换\" data-toc-modified-id=\"创建一个转换-3\"><span class=\"toc-item-num\">3&nbsp;&nbsp;</span>创建一个转换</a></span><ul class=\"toc-item\"><li><span><a href=\"#初始化模型\" data-toc-modified-id=\"初始化模型-3.1\"><span class=\"toc-item-num\">3.1&nbsp;&nbsp;</span>初始化模型</a></span></li><li><span><a href=\"#转换向量\" data-toc-modified-id=\"转换向量-3.2\"><span class=\"toc-item-num\">3.2&nbsp;&nbsp;</span>转换向量</a></span></li><li><span><a href=\"#LSI-转换-----Latent-Semantic-Indexing\" data-toc-modified-id=\"LSI-转换-----Latent-Semantic-Indexing-3.3\"><span class=\"toc-item-num\">3.3&nbsp;&nbsp;</span>LSI 转换---  Latent Semantic Indexing</a></span></li><li><span><a href=\"#导出导入模型\" data-toc-modified-id=\"导出导入模型-3.4\"><span class=\"toc-item-num\">3.4&nbsp;&nbsp;</span>导出导入模型</a></span></li></ul></li><li><span><a href=\"#可以实现的变换\" data-toc-modified-id=\"可以实现的变换-4\"><span class=\"toc-item-num\">4&nbsp;&nbsp;</span>可以实现的变换</a></span><ul class=\"toc-item\"><li><span><a href=\"#TF-IDF\" data-toc-modified-id=\"TF-IDF-4.1\"><span class=\"toc-item-num\">4.1&nbsp;&nbsp;</span>TF-IDF</a></span></li><li><span><a href=\"#LSA\" data-toc-modified-id=\"LSA-4.2\"><span class=\"toc-item-num\">4.2&nbsp;&nbsp;</span>LSA</a></span></li><li><span><a href=\"#LDA\" data-toc-modified-id=\"LDA-4.3\"><span class=\"toc-item-num\">4.3&nbsp;&nbsp;</span>LDA</a></span></li><li><span><a href=\"#Random-Projections,\" data-toc-modified-id=\"Random-Projections,-4.4\"><span class=\"toc-item-num\">4.4&nbsp;&nbsp;</span>Random Projections,</a></span></li><li><span><a href=\"#Hierarchical-Dirichlet-Process,\" data-toc-modified-id=\"Hierarchical-Dirichlet-Process,-4.5\"><span class=\"toc-item-num\">4.5&nbsp;&nbsp;</span>Hierarchical Dirichlet Process,</a></span></li></ul></li></ul></div>"
   ]
  },
  {
   "cell_type": "markdown",
   "metadata": {},
   "source": [
    "# 导入 corpus"
   ]
  },
  {
   "cell_type": "code",
   "execution_count": 2,
   "metadata": {
    "ExecuteTime": {
     "end_time": "2018-12-24T12:15:37.473852Z",
     "start_time": "2018-12-24T12:15:37.466792Z"
    }
   },
   "outputs": [
    {
     "name": "stdout",
     "output_type": "stream",
     "text": [
      "Used files generated from first tutorial\n"
     ]
    }
   ],
   "source": [
    "from gensim import corpora, models, similarities\n",
    "import os\n",
    "\n",
    "if (os.path.exists(\"deerwester.dict\")):\n",
    "    dictionary = corpora.Dictionary.load('deerwester.dict')\n",
    "    corpus = corpora.MmCorpus('corpus.mm')\n",
    "    print(\"Used files generated from first tutorial\")"
   ]
  },
  {
   "cell_type": "markdown",
   "metadata": {
    "ExecuteTime": {
     "end_time": "2018-12-24T12:20:44.578409Z",
     "start_time": "2018-12-24T12:20:44.572082Z"
    }
   },
   "source": [
    "#  Transform documents from one vector representation into another\n",
    "\n",
    "* To bring out hidden structure in the corpus, discover relationships between words and use them to describe the documents in a new and (hopefully) more semantic way.\n",
    "\n",
    "* To make the document representation more compact."
   ]
  },
  {
   "cell_type": "markdown",
   "metadata": {},
   "source": [
    "# 创建一个转换\n",
    "\n",
    "* 转换 是标准的python对象， 通过训练语料库进行初始化\n"
   ]
  },
  {
   "cell_type": "markdown",
   "metadata": {},
   "source": [
    "## 初始化模型\n",
    "\n",
    "* 不同的转换 需要不同的初始化参数\n",
    "* 在Tfidf情况下，计算语料库一次，计算特征的文档频率"
   ]
  },
  {
   "cell_type": "code",
   "execution_count": 4,
   "metadata": {
    "ExecuteTime": {
     "end_time": "2018-12-24T12:28:12.120649Z",
     "start_time": "2018-12-24T12:28:12.108075Z"
    }
   },
   "outputs": [],
   "source": [
    "tfidf = models.TfidfModel(corpus)"
   ]
  },
  {
   "cell_type": "markdown",
   "metadata": {},
   "source": [
    "## 转换向量\n",
    "\n",
    "* TF-IDF is treated as a read-only object that can be used to convert any vector from the old representation (bag-of-words integer counts) to the new representation (TF-IDF real-valued weights):"
   ]
  },
  {
   "cell_type": "code",
   "execution_count": 8,
   "metadata": {
    "ExecuteTime": {
     "end_time": "2018-12-24T12:49:41.311274Z",
     "start_time": "2018-12-24T12:49:41.296630Z"
    }
   },
   "outputs": [
    {
     "name": "stdout",
     "output_type": "stream",
     "text": [
      "[(0, 0.5773502691896257), (1, 0.5773502691896257), (2, 0.5773502691896257)]\n",
      "[(0, 0.44424552527467476), (3, 0.44424552527467476), (4, 0.44424552527467476), (5, 0.3244870206138555), (6, 0.44424552527467476), (7, 0.3244870206138555)]\n",
      "[(2, 0.5710059809418182), (5, 0.4170757362022777), (7, 0.4170757362022777), (8, 0.5710059809418182)]\n",
      "[(1, 0.49182558987264147), (5, 0.7184811607083769), (8, 0.49182558987264147)]\n",
      "[(3, 0.6282580468670046), (6, 0.6282580468670046), (7, 0.45889394536615247)]\n",
      "[(9, 1.0)]\n",
      "[(9, 0.7071067811865475), (10, 0.7071067811865475)]\n",
      "[(9, 0.5080429008916749), (10, 0.5080429008916749), (11, 0.695546419520037)]\n",
      "[(4, 0.6282580468670046), (10, 0.45889394536615247), (11, 0.6282580468670046)]\n"
     ]
    }
   ],
   "source": [
    "corpus_tfidf = tfidf[corpus]\n",
    "for doc in corpus_tfidf:\n",
    "    print(doc)"
   ]
  },
  {
   "cell_type": "markdown",
   "metadata": {},
   "source": [
    "## LSI 转换---  Latent Semantic Indexing"
   ]
  },
  {
   "cell_type": "code",
   "execution_count": 18,
   "metadata": {
    "ExecuteTime": {
     "end_time": "2018-12-24T14:01:28.709569Z",
     "start_time": "2018-12-24T14:01:28.703196Z"
    }
   },
   "outputs": [],
   "source": [
    "lsi = models.LsiModel(corpus_tfidf, id2word=dictionary, num_topics=2) \n",
    "corpus_lsi = lsi[corpus_tfidf] # create a double wrapper over the original corpus: bow->tfidf->fold-in-lsi"
   ]
  },
  {
   "cell_type": "code",
   "execution_count": 19,
   "metadata": {
    "ExecuteTime": {
     "end_time": "2018-12-24T14:01:29.198669Z",
     "start_time": "2018-12-24T14:01:29.192048Z"
    }
   },
   "outputs": [
    {
     "name": "stdout",
     "output_type": "stream",
     "text": [
      "[(0,\n",
      "  '-0.703*\"trees\" + -0.538*\"graph\" + -0.402*\"minors\" + -0.187*\"survey\" + '\n",
      "  '-0.061*\"system\" + -0.060*\"response\" + -0.060*\"time\" + -0.058*\"user\" + '\n",
      "  '-0.049*\"computer\" + -0.035*\"interface\"'),\n",
      " (1,\n",
      "  '-0.460*\"system\" + -0.373*\"user\" + -0.332*\"eps\" + -0.328*\"interface\" + '\n",
      "  '-0.320*\"time\" + -0.320*\"response\" + -0.293*\"computer\" + -0.280*\"human\" + '\n",
      "  '-0.171*\"survey\" + 0.161*\"trees\"')]\n"
     ]
    },
    {
     "data": {
      "text/plain": [
       "[(0, '-0.703*\"trees\" + -0.538*\"graph\" + -0.402*\"minors\" + -0.187*\"survey\" + -0.061*\"system\" + -0.060*\"response\" + -0.060*\"time\" + -0.058*\"user\" + -0.049*\"computer\" + -0.035*\"interface\"'), (1, '-0.460*\"system\" + -0.373*\"user\" + -0.332*\"eps\" + -0.328*\"interface\" + -0.320*\"time\" + -0.320*\"response\" + -0.293*\"computer\" + -0.280*\"human\" + -0.171*\"survey\" + 0.161*\"trees\"')]"
      ]
     },
     "execution_count": 19,
     "metadata": {},
     "output_type": "execute_result"
    }
   ],
   "source": [
    "pprint(lsi.print_topics(2))\n",
    "lsi.print_topics(2)"
   ]
  },
  {
   "cell_type": "markdown",
   "metadata": {},
   "source": [
    "* 可以看出，第一个主题的相关词汇 是 trees, graph , minors 等\n",
    "* 第二个主题与其他的词 相关性较大"
   ]
  },
  {
   "cell_type": "code",
   "execution_count": 21,
   "metadata": {
    "ExecuteTime": {
     "end_time": "2018-12-24T14:03:20.896272Z",
     "start_time": "2018-12-24T14:03:20.889389Z"
    }
   },
   "outputs": [
    {
     "name": "stdout",
     "output_type": "stream",
     "text": [
      "[(0, -0.06600783396090197), (1, -0.5200703306361861)]\n",
      "[(0, -0.1966759285914228), (1, -0.7609563167700052)]\n",
      "[(0, -0.0899263997244626), (1, -0.724186062675251)]\n",
      "[(0, -0.0758584765217806), (1, -0.6320551586003431)]\n",
      "[(0, -0.10150299184979952), (1, -0.5737308483002955)]\n",
      "[(0, -0.7032108939378315), (1, 0.161151802140256)]\n",
      "[(0, -0.8774787673119837), (1, 0.16758906864659176)]\n",
      "[(0, -0.9098624686818586), (1, 0.14086553628718793)]\n",
      "[(0, -0.6165825350569283), (1, -0.053929075663895064)]\n"
     ]
    }
   ],
   "source": [
    "for doc in corpus_lsi:\n",
    "     # both bow->tfidf and tfidf->lsi transformations are actually executed here, on the fly\n",
    "    pprint(doc)"
   ]
  },
  {
   "cell_type": "markdown",
   "metadata": {},
   "source": [
    "* As expected, the first five documents are more strongly related to the second topic while the remaining four documents to the first topic:\n",
    "\n",
    "* 暂时不理解正负号的作用，推断应该是绝对值越大越相关，符号代表空间的一个方向"
   ]
  },
  {
   "cell_type": "markdown",
   "metadata": {},
   "source": [
    "## 导出导入模型"
   ]
  },
  {
   "cell_type": "code",
   "execution_count": 22,
   "metadata": {
    "ExecuteTime": {
     "end_time": "2018-12-24T14:12:46.827421Z",
     "start_time": "2018-12-24T14:12:46.820375Z"
    }
   },
   "outputs": [],
   "source": [
    "lsi.save('model.lsi')"
   ]
  },
  {
   "cell_type": "code",
   "execution_count": 24,
   "metadata": {
    "ExecuteTime": {
     "end_time": "2018-12-24T14:13:33.134710Z",
     "start_time": "2018-12-24T14:13:33.128858Z"
    }
   },
   "outputs": [],
   "source": [
    "lsi = models.LsiModel.load('model.lsi')"
   ]
  },
  {
   "cell_type": "markdown",
   "metadata": {},
   "source": [
    "# 可以实现的变换"
   ]
  },
  {
   "cell_type": "markdown",
   "metadata": {
    "ExecuteTime": {
     "end_time": "2018-12-24T14:14:20.639634Z",
     "start_time": "2018-12-24T14:14:20.636873Z"
    }
   },
   "source": [
    "## TF-IDF "
   ]
  },
  {
   "cell_type": "markdown",
   "metadata": {
    "ExecuteTime": {
     "end_time": "2018-12-24T14:14:25.154625Z",
     "start_time": "2018-12-24T14:14:25.151884Z"
    }
   },
   "source": [
    "## LSA"
   ]
  },
  {
   "cell_type": "markdown",
   "metadata": {
    "ExecuteTime": {
     "end_time": "2018-12-24T14:14:29.540440Z",
     "start_time": "2018-12-24T14:14:29.537770Z"
    }
   },
   "source": [
    "## LDA"
   ]
  },
  {
   "cell_type": "markdown",
   "metadata": {
    "ExecuteTime": {
     "end_time": "2018-12-24T14:14:57.146972Z",
     "start_time": "2018-12-24T14:14:57.141188Z"
    }
   },
   "source": [
    "## Random Projections, \n",
    "* RP aim to reduce vector space dimensionality. This is a very efficient (both memory- and CPU-friendly) approach to approximating TfIdf distances between documents, by throwing in a little randomness. Recommended target dimensionality is again in the hundreds/thousands, depending on your dataset.\n",
    "\n"
   ]
  },
  {
   "cell_type": "markdown",
   "metadata": {},
   "source": [
    "## Hierarchical Dirichlet Process, \n",
    "* HDP is a non-parametric bayesian method (note the missing number of requested topics):"
   ]
  },
  {
   "cell_type": "code",
   "execution_count": null,
   "metadata": {},
   "outputs": [],
   "source": []
  }
 ],
 "metadata": {
  "kernelspec": {
   "display_name": "Python 3",
   "language": "python",
   "name": "python3"
  },
  "language_info": {
   "codemirror_mode": {
    "name": "ipython",
    "version": 3
   },
   "file_extension": ".py",
   "mimetype": "text/x-python",
   "name": "python",
   "nbconvert_exporter": "python",
   "pygments_lexer": "ipython3",
   "version": "3.6.5"
  },
  "toc": {
   "base_numbering": 1,
   "nav_menu": {},
   "number_sections": true,
   "sideBar": true,
   "skip_h1_title": false,
   "title_cell": "Table of Contents",
   "title_sidebar": "Contents",
   "toc_cell": true,
   "toc_position": {},
   "toc_section_display": true,
   "toc_window_display": false
  },
  "varInspector": {
   "cols": {
    "lenName": 16,
    "lenType": 16,
    "lenVar": 40
   },
   "kernels_config": {
    "python": {
     "delete_cmd_postfix": "",
     "delete_cmd_prefix": "del ",
     "library": "var_list.py",
     "varRefreshCmd": "print(var_dic_list())"
    },
    "r": {
     "delete_cmd_postfix": ") ",
     "delete_cmd_prefix": "rm(",
     "library": "var_list.r",
     "varRefreshCmd": "cat(var_dic_list()) "
    }
   },
   "types_to_exclude": [
    "module",
    "function",
    "builtin_function_or_method",
    "instance",
    "_Feature"
   ],
   "window_display": false
  }
 },
 "nbformat": 4,
 "nbformat_minor": 2
}
