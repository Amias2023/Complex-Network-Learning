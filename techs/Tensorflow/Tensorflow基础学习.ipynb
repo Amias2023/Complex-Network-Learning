{
 "cells": [
  {
   "cell_type": "markdown",
   "metadata": {},
   "source": [
    "# 1. 单步RNN"
   ]
  },
  {
   "cell_type": "code",
   "execution_count": 1,
   "metadata": {},
   "outputs": [],
   "source": [
    "import tensorflow as tf\n",
    "import numpy as np\n",
    "\n",
    "\n"
   ]
  },
  {
   "cell_type": "markdown",
   "metadata": {},
   "source": [
    "### 1. basic cell"
   ]
  },
  {
   "cell_type": "code",
   "execution_count": 2,
   "metadata": {},
   "outputs": [
    {
     "name": "stdout",
     "output_type": "stream",
     "text": [
      "128\n"
     ]
    }
   ],
   "source": [
    "cell = tf.nn.rnn_cell.BasicRNNCell(num_units=128) # state_size = 128\n",
    "print(cell.state_size) # 128\n"
   ]
  },
  {
   "cell_type": "code",
   "execution_count": 3,
   "metadata": {},
   "outputs": [],
   "source": [
    "inputs = tf.placeholder(np.float32, shape=(32, 100))# 32 是 batch_size\n"
   ]
  },
  {
   "cell_type": "code",
   "execution_count": 6,
   "metadata": {},
   "outputs": [],
   "source": [
    "h0 = cell.zero_state(32, np.float32) # 通过zero_state得到一个全0的初始状态，形状为(batch_size, state_size)\n",
    "output, h1 = cell.__call__(inputs, h0)"
   ]
  },
  {
   "cell_type": "markdown",
   "metadata": {},
   "source": [
    "### 2. LSTM cell---两个隐藏层 h ,c "
   ]
  },
  {
   "cell_type": "code",
   "execution_count": 9,
   "metadata": {},
   "outputs": [
    {
     "name": "stdout",
     "output_type": "stream",
     "text": [
      "Tensor(\"basic_lstm_cell/Mul_2:0\", shape=(32, 128), dtype=float32)\n",
      "Tensor(\"basic_lstm_cell/Add_1:0\", shape=(32, 128), dtype=float32)\n"
     ]
    }
   ],
   "source": [
    "lstm_cell = tf.nn.rnn_cell.BasicLSTMCell(num_units=128)\n",
    "inputs = tf.placeholder(np.float32, shape=(32, 100)) # 32 是 batch_size\n",
    "h0 = lstm_cell.zero_state(32, np.float32) # 通过zero_state得到一个全0的初始状态\n",
    "output, h1 = lstm_cell.__call__(inputs, h0)\n",
    "\n",
    "print(h1.h)  # shape=(32, 128)\n",
    "print(h1.c)  # shape=(32, 128)\n"
   ]
  },
  {
   "cell_type": "markdown",
   "metadata": {},
   "source": [
    "# 2. 执行多步：tf.nn.dynamic_rnn"
   ]
  },
  {
   "cell_type": "code",
   "execution_count": 10,
   "metadata": {},
   "outputs": [],
   "source": [
    "X = np.random.randn(2, 10, 8)\n"
   ]
  },
  {
   "cell_type": "code",
   "execution_count": 12,
   "metadata": {},
   "outputs": [],
   "source": [
    "X[1,6:]=0"
   ]
  },
  {
   "cell_type": "code",
   "execution_count": 14,
   "metadata": {},
   "outputs": [],
   "source": [
    "X_lengths= [10,6]"
   ]
  },
  {
   "cell_type": "code",
   "execution_count": 17,
   "metadata": {
    "scrolled": true
   },
   "outputs": [
    {
     "name": "stdout",
     "output_type": "stream",
     "text": [
      "WARNING:tensorflow:From <ipython-input-17-f20b25ba5273>:12: run_n (from tensorflow.contrib.learn.python.learn.graph_actions) is deprecated and will be removed after 2017-02-15.\n",
      "Instructions for updating:\n",
      "graph_actions.py will be deleted. Use tf.train.* utilities instead. You can use learn/estimators/estimator.py as an example.\n",
      "WARNING:tensorflow:From /Users/liuchuang/anaconda3/envs/tensorflow/lib/python3.6/site-packages/tensorflow/contrib/learn/python/learn/graph_actions.py:650: run_feeds (from tensorflow.contrib.learn.python.learn.graph_actions) is deprecated and will be removed after 2017-02-15.\n",
      "Instructions for updating:\n",
      "graph_actions.py will be deleted. Use tf.train.* utilities instead. You can use learn/estimators/estimator.py as an example.\n",
      "WARNING:tensorflow:From /Users/liuchuang/anaconda3/envs/tensorflow/lib/python3.6/site-packages/tensorflow/contrib/learn/python/learn/graph_actions.py:708: run_feeds_iter (from tensorflow.contrib.learn.python.learn.graph_actions) is deprecated and will be removed after 2017-02-15.\n",
      "Instructions for updating:\n",
      "graph_actions.py will be deleted. Use tf.train.* utilities instead. You can use learn/estimators/estimator.py as an example.\n",
      "{'outputs': array([[[-0.08384192,  0.06183881,  0.01755905, ...,  0.02954254,\n",
      "         -0.04551525, -0.04980299],\n",
      "        [-0.13860482,  0.15091965,  0.03361808, ..., -0.03315255,\n",
      "         -0.09747536,  0.02441158],\n",
      "        [-0.17416995,  0.0804932 ,  0.05496859, ...,  0.08393534,\n",
      "          0.00220577, -0.05753896],\n",
      "        ...,\n",
      "        [-0.1237643 , -0.07398791, -0.03995043, ...,  0.08149298,\n",
      "         -0.1735362 , -0.08055957],\n",
      "        [-0.10806652, -0.05192893,  0.01843831, ...,  0.0865122 ,\n",
      "         -0.23490919, -0.05260242],\n",
      "        [-0.04009438,  0.05748688, -0.0755158 , ..., -0.12644433,\n",
      "         -0.14259545,  0.01566184]],\n",
      "\n",
      "       [[ 0.05853513,  0.0310879 , -0.05848507, ..., -0.11186468,\n",
      "         -0.05630436,  0.02584381],\n",
      "        [ 0.03214487,  0.07684626,  0.00077295, ..., -0.07175591,\n",
      "          0.05623004,  0.07466553],\n",
      "        [-0.08284889,  0.06913813, -0.0314139 , ...,  0.04823807,\n",
      "          0.05124318, -0.03272153],\n",
      "        ...,\n",
      "        [ 0.        ,  0.        ,  0.        , ...,  0.        ,\n",
      "          0.        ,  0.        ],\n",
      "        [ 0.        ,  0.        ,  0.        , ...,  0.        ,\n",
      "          0.        ,  0.        ],\n",
      "        [ 0.        ,  0.        ,  0.        , ...,  0.        ,\n",
      "          0.        ,  0.        ]]]), 'last_states': LSTMStateTuple(c=array([[-0.08903356,  0.09271661, -0.14649684,  0.02950061, -0.01806199,\n",
      "        -0.65306825, -0.21167701,  0.166524  , -0.69562082, -0.07001803,\n",
      "         0.41102644, -0.1146567 , -0.15538319,  0.0487089 ,  0.02526932,\n",
      "         0.08203104,  0.18391592,  0.14556774, -0.09162916, -0.29785244,\n",
      "         0.01966489, -0.15967878, -0.11235631, -0.14288521,  0.11888168,\n",
      "         0.33036815, -0.057182  , -0.56360058,  0.14522791, -0.09007747,\n",
      "        -0.23914128, -0.0803084 , -0.20128537,  0.27342585, -0.08984995,\n",
      "        -0.09656901,  0.22392005, -0.01684517,  0.20880677, -0.24276397,\n",
      "        -0.11398263, -0.04227608, -0.22181951, -0.08767264,  0.25229659,\n",
      "         0.22093406, -0.07601156,  0.21922991,  0.11661907,  0.50971255,\n",
      "        -0.29817608, -0.19745259, -0.15233278,  0.08395558, -0.48854123,\n",
      "        -0.00135736, -0.06547101,  0.10055724,  0.33223311, -0.1910228 ,\n",
      "        -0.18076042, -0.19867566, -0.34111414,  0.03750386],\n",
      "       [-0.40027713,  0.06917448, -0.14767368,  0.24495683,  0.19991399,\n",
      "         0.02867822, -0.10356593, -0.18090373, -0.00308807, -0.0643589 ,\n",
      "         0.13040867, -0.12082607,  0.0089292 ,  0.08115447, -0.22122937,\n",
      "         0.07150763,  0.15822504,  0.21484847, -0.09669134, -0.13339782,\n",
      "         0.14286427, -0.18907778, -0.07835164,  0.06000111,  0.26250956,\n",
      "        -0.10868352, -0.20517473, -0.06745189,  0.3218322 ,  0.31356056,\n",
      "        -0.12501763, -0.05390866, -0.031435  , -0.00546992,  0.04830694,\n",
      "        -0.05614468,  0.16846108, -0.31845945,  0.03506693,  0.06520888,\n",
      "         0.07619167,  0.25808919,  0.22685338, -0.15202964, -0.09275047,\n",
      "        -0.10865953, -0.02144059,  0.17406052,  0.23732967,  0.10598706,\n",
      "         0.05381496, -0.01594818,  0.04850928,  0.23050445,  0.11894188,\n",
      "        -0.02636634,  0.01168771,  0.10345448,  0.14617347, -0.07858111,\n",
      "         0.0021472 ,  0.2309873 , -0.1660715 , -0.16527184]]), h=array([[-0.04009438,  0.05748688, -0.0755158 ,  0.01341544, -0.00806929,\n",
      "        -0.25747896, -0.12031676,  0.09495433, -0.3295482 , -0.02604156,\n",
      "         0.16114139, -0.05790841, -0.06771857,  0.0299756 ,  0.01063977,\n",
      "         0.04739068,  0.11700218,  0.09495649, -0.05601105, -0.15606532,\n",
      "         0.00669032, -0.07382895, -0.05279446, -0.07768513,  0.05385399,\n",
      "         0.13358173, -0.03701057, -0.23325684,  0.07445137, -0.04950063,\n",
      "        -0.13154648, -0.04149439, -0.10408934,  0.12982221, -0.03847227,\n",
      "        -0.04303201,  0.09129285, -0.00846756,  0.12761463, -0.14182862,\n",
      "        -0.06203068, -0.02551705, -0.11811266, -0.04723654,  0.11392398,\n",
      "         0.08840876, -0.04902013,  0.09061381,  0.05652198,  0.25251237,\n",
      "        -0.14332838, -0.11014656, -0.06673811,  0.03156209, -0.20664226,\n",
      "        -0.00073383, -0.03110965,  0.05333544,  0.13549462, -0.10336467,\n",
      "        -0.10995735, -0.12644433, -0.14259545,  0.01566184],\n",
      "       [-0.18046609,  0.03082512, -0.07651759,  0.11789377,  0.0931907 ,\n",
      "         0.01531236, -0.05130698, -0.11144128, -0.00157181, -0.02510531,\n",
      "         0.06378292, -0.05010448,  0.00450268,  0.03843975, -0.10604061,\n",
      "         0.03264261,  0.06281168,  0.10367727, -0.05370021, -0.06773091,\n",
      "         0.07782406, -0.0998976 , -0.04187764,  0.02781317,  0.13635803,\n",
      "        -0.05394807, -0.1044115 , -0.03153572,  0.14237627,  0.13465047,\n",
      "        -0.05966273, -0.02646464, -0.01493415, -0.00273437,  0.02658601,\n",
      "        -0.02752891,  0.07006757, -0.15620551,  0.01628205,  0.03297029,\n",
      "         0.03375025,  0.1087884 ,  0.11577411, -0.07190309, -0.04059804,\n",
      "        -0.05789831, -0.01135813,  0.08422138,  0.10133797,  0.0574055 ,\n",
      "         0.02151821, -0.00890625,  0.02197824,  0.1180601 ,  0.06832297,\n",
      "        -0.01525122,  0.00597769,  0.05442974,  0.08168269, -0.03403575,\n",
      "         0.00120705,  0.10795964, -0.09286453, -0.08308452]]))}\n"
     ]
    }
   ],
   "source": [
    "cell = tf.contrib.rnn.BasicLSTMCell(num_units=64, state_is_tuple=True)\n",
    "\n",
    "outputs, last_states = tf.nn.dynamic_rnn(\n",
    "    cell=cell,\n",
    "    dtype=tf.float64,\n",
    "    sequence_length=X_lengths,\n",
    "    inputs=X)\n",
    "\n",
    "result = tf.contrib.learn.run_n(\n",
    "    {\"outputs\": outputs, \"last_states\": last_states},\n",
    "    n=1,\n",
    "    feed_dict=None)\n",
    "\n",
    "print(result[0])\n",
    "\n",
    "assert result[0][\"outputs\"].shape == (2, 10, 64)\n",
    "\n",
    "# 第二个example中的outputs超过6步(7-10步)的值应该为0\n",
    "assert (result[0][\"outputs\"][1,7,:] == np.zeros(cell.output_size)).all()\n"
   ]
  },
  {
   "cell_type": "markdown",
   "metadata": {},
   "source": [
    "# 3. 堆叠RNNCell：MultiRNNCell"
   ]
  },
  {
   "cell_type": "code",
   "execution_count": 18,
   "metadata": {},
   "outputs": [
    {
     "name": "stdout",
     "output_type": "stream",
     "text": [
      "(128, 128, 128)\n",
      "(<tf.Tensor 'cell_0/basic_rnn_cell/Tanh:0' shape=(32, 128) dtype=float32>, <tf.Tensor 'cell_1/basic_rnn_cell/Tanh:0' shape=(32, 128) dtype=float32>, <tf.Tensor 'cell_2/basic_rnn_cell/Tanh:0' shape=(32, 128) dtype=float32>)\n"
     ]
    }
   ],
   "source": [
    "\n",
    "# 每调用一次这个函数就返回一个BasicRNNCell\n",
    "def get_a_cell():\n",
    "    return tf.nn.rnn_cell.BasicRNNCell(num_units=128)\n",
    "# 用tf.nn.rnn_cell MultiRNNCell创建3层RNN\n",
    "cell = tf.nn.rnn_cell.MultiRNNCell([get_a_cell() for _ in range(3)]) # 3层RNN\n",
    "# 得到的cell实际也是RNNCell的子类\n",
    "# 它的state_size是(128, 128, 128)\n",
    "# (128, 128, 128)并不是128x128x128的意思\n",
    "# 而是表示共有3个隐层状态，每个隐层状态的大小为128\n",
    "print(cell.state_size) # (128, 128, 128)\n",
    "# 使用对应的call函数\n",
    "inputs = tf.placeholder(np.float32, shape=(32, 100)) # 32 是 batch_size\n",
    "h0 = cell.zero_state(32, np.float32) # 通过zero_state得到一个全0的初始状态\n",
    "output, h1 = cell.call(inputs, h0)\n",
    "print(h1) # tuple中含有3个32x128的向量"
   ]
  },
  {
   "cell_type": "code",
   "execution_count": null,
   "metadata": {},
   "outputs": [],
   "source": []
  }
 ],
 "metadata": {
  "kernelspec": {
   "display_name": "Python 3",
   "language": "python",
   "name": "python3"
  },
  "language_info": {
   "codemirror_mode": {
    "name": "ipython",
    "version": 3
   },
   "file_extension": ".py",
   "mimetype": "text/x-python",
   "name": "python",
   "nbconvert_exporter": "python",
   "pygments_lexer": "ipython3",
   "version": "3.6.7"
  }
 },
 "nbformat": 4,
 "nbformat_minor": 2
}
